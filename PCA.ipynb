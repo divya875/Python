{
  "nbformat": 4,
  "nbformat_minor": 0,
  "metadata": {
    "colab": {
      "name": "PCA.ipynb",
      "provenance": [],
      "authorship_tag": "ABX9TyO9LnPqNC8rUlQeO5pb0Suq",
      "include_colab_link": true
    },
    "kernelspec": {
      "name": "python3",
      "display_name": "Python 3"
    }
  },
  "cells": [
    {
      "cell_type": "markdown",
      "metadata": {
        "id": "view-in-github",
        "colab_type": "text"
      },
      "source": [
        "<a href=\"https://colab.research.google.com/github/divya875/Python/blob/master/PCA.ipynb\" target=\"_parent\"><img src=\"https://colab.research.google.com/assets/colab-badge.svg\" alt=\"Open In Colab\"/></a>"
      ]
    },
    {
      "cell_type": "code",
      "metadata": {
        "id": "rlsdZraVlrPH",
        "colab_type": "code",
        "colab": {
          "base_uri": "https://localhost:8080/",
          "height": 670
        },
        "outputId": "e3248d9d-00ed-481a-c8f5-eef7082a0db5"
      },
      "source": [
        "import pandas as pd\n",
        "import numpy as np\n",
        "from sklearn.decomposition import PCA\n",
        "from sklearn.preprocessing import LabelEncoder, StandardScaler\n",
        "import matplotlib.pyplot as plt\n",
        "import seaborn as sns\n",
        "sns.set(style=\"white\", color_codes=True)\n",
        "import warnings\n",
        "warnings.filterwarnings(\"ignore\")\n",
        "\n",
        "dataset = pd.read_csv('CC.csv')\n",
        "x = dataset\n",
        "\n",
        "## Null values\n",
        "nulls = pd.DataFrame(x.isnull().sum().sort_values(ascending=False)[:25])\n",
        "nulls.columns = ['Null Count']\n",
        "nulls.index.name = 'Feature'\n",
        "print(nulls)\n",
        "\n",
        "## Replacing null values with mean values\n",
        "x = x.select_dtypes(include=[np.number]).interpolate().dropna()\n",
        "\n",
        "\n",
        "# Standradising the data features\n",
        "from sklearn import preprocessing\n",
        "scaler = preprocessing.StandardScaler()\n",
        "scaler.fit(x)\n",
        "X_scaled_array = scaler.transform(x)\n",
        "X_scaled = pd.DataFrame(X_scaled_array, columns = x.columns)\n",
        "\n",
        "# Building the model\n",
        "from sklearn.cluster import KMeans\n",
        "nclusters = 3 # this is the k in kmeans\n",
        "km = KMeans(n_clusters=nclusters)\n",
        "km.fit(X_scaled)\n",
        "\n",
        "# predict the cluster for each data point\n",
        "y_cluster_kmeans = km.predict(X_scaled)\n",
        "from sklearn import metrics\n",
        "score = metrics.silhouette_score(X_scaled, y_cluster_kmeans)\n",
        "print(\"Silhoutte Score without PCA: \" + str(score))\n",
        "\n",
        "\n",
        "# Create a Covariance Matrix\n",
        "covar_matrix = PCA(10)\n",
        "covar_matrix.fit(X_scaled)\n",
        "variance = covar_matrix.explained_variance_ratio_ #calculate variance ratios\n",
        "\n",
        "var=np.cumsum(np.round(covar_matrix.explained_variance_ratio_, decimals=3)*100)\n",
        "var #cumulative sum of variance explained with [n] features\n",
        "plt.ylabel('% Variance Explained')\n",
        "plt.xlabel('# of Features')\n",
        "plt.title('PCA Analysis')\n",
        "plt.ylim(30,100.5)\n",
        "plt.style.context('seaborn-whitegrid')\n",
        "\n",
        "\n",
        "plt.plot(var)\n",
        "plt.show()\n",
        "\n",
        "# Reducing the dimensionality from 3 to 2 using PCA\n",
        "pca = PCA(6)\n",
        "x_pca = pca.fit_transform(X_scaled)\n",
        "df2 = pd.DataFrame(data=x_pca)\n",
        "\n",
        "# Building the model after Dimensionality redcution\n",
        "nclusters = 3 # this is the k in kmeans\n",
        "km = KMeans(n_clusters=nclusters)\n",
        "km.fit(df2)\n",
        "\n",
        "#Bonus\n",
        "# predict the cluster for each data point after applying PCA.\n",
        "y_cluster_kmeans = km.predict(df2)\n",
        "score = metrics.silhouette_score(df2, y_cluster_kmeans)\n",
        "print(\"Silhoutte Score After PCA: \" + str(score))"
      ],
      "execution_count": 3,
      "outputs": [
        {
          "output_type": "stream",
          "text": [
            "                                  Null Count\n",
            "Feature                                     \n",
            "MINIMUM_PAYMENTS                         313\n",
            "CREDIT_LIMIT                               1\n",
            "TENURE                                     0\n",
            "PURCHASES_FREQUENCY                        0\n",
            "BALANCE                                    0\n",
            "BALANCE_FREQUENCY                          0\n",
            "PURCHASES                                  0\n",
            "ONEOFF_PURCHASES                           0\n",
            "INSTALLMENTS_PURCHASES                     0\n",
            "CASH_ADVANCE                               0\n",
            "ONEOFF_PURCHASES_FREQUENCY                 0\n",
            "PRC_FULL_PAYMENT                           0\n",
            "PURCHASES_INSTALLMENTS_FREQUENCY           0\n",
            "CASH_ADVANCE_FREQUENCY                     0\n",
            "CASH_ADVANCE_TRX                           0\n",
            "PURCHASES_TRX                              0\n",
            "PAYMENTS                                   0\n",
            "CUST_ID                                    0\n",
            "Silhoutte Score without PCA: 0.2502329092671986\n"
          ],
          "name": "stdout"
        },
        {
          "output_type": "display_data",
          "data": {
            "image/png": "[encoded data removed]",
            "text/plain": [
              "<Figure size 432x288 with 1 Axes>"
            ]
          },
          "metadata": {
            "tags": []
          }
        },
        {
          "output_type": "stream",
          "text": [
            "Silhoutte Score After PCA: 0.2951683987631998\n"
          ],
          "name": "stdout"
        }
      ]
    }
  ]
}